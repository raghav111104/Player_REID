{
 "cells": [
  {
   "cell_type": "code",
   "execution_count": 1,
   "id": "bb55249c-db7e-43a6-8db2-9114f7280562",
   "metadata": {},
   "outputs": [],
   "source": [
    "!pip install ultralytics opencv-python deep_sort_realtime --quiet"
   ]
  },
  {
   "cell_type": "code",
   "execution_count": 2,
   "id": "b3766573-5189-4301-b3b4-e510534354ab",
   "metadata": {},
   "outputs": [],
   "source": [
    "from ultralytics import YOLO\n",
    "import cv2\n",
    "from deep_sort_realtime.deepsort_tracker import DeepSort\n",
    "import numpy as np\n",
    "import os\n",
    "import time\n"
   ]
  },
  {
   "cell_type": "code",
   "execution_count": 3,
   "id": "599f4746-3358-48b4-9bd5-a755e595ad92",
   "metadata": {},
   "outputs": [],
   "source": [
    "model_path = 'model/best.pt'                      # Your YOLOv11 model\n",
    "video_path = 'video/15sec_input_720p.mp4'         # Input football video\n",
    "output_path = 'video/output_tracked.mp4'          # Output video path\n",
    "\n",
    "os.makedirs('video', exist_ok=True)\n"
   ]
  },
  {
   "cell_type": "code",
   "execution_count": 4,
   "id": "8bdcee8b-17b5-43c9-b90d-61bda48e6295",
   "metadata": {},
   "outputs": [],
   "source": [
    "model = YOLO(model_path)\n",
    "\n",
    "from deep_sort_realtime.deepsort_tracker import DeepSort\n",
    "\n",
    "tracker = DeepSort(\n",
    "    max_age=60,\n",
    "    n_init=2,\n",
    "    max_iou_distance=0.7,\n",
    "    max_cosine_distance=0.3,   # Stricter match\n",
    "    embedder=\"mobilenet\",      # Use default appearance model\n",
    "    half=True,\n",
    "    bgr=True,\n",
    "    embedder_gpu=False          # Set False if no GPU\n",
    ")\n",
    "\n"
   ]
  },
  {
   "cell_type": "code",
   "execution_count": 5,
   "id": "5bbb1a21-f699-4e94-b3b4-fb739cad246e",
   "metadata": {},
   "outputs": [],
   "source": [
    "cap = cv2.VideoCapture(video_path)\n",
    "frame_width = int(cap.get(cv2.CAP_PROP_FRAME_WIDTH))\n",
    "frame_height = int(cap.get(cv2.CAP_PROP_FRAME_HEIGHT))\n",
    "fps = int(cap.get(cv2.CAP_PROP_FPS))\n",
    "\n",
    "fourcc = cv2.VideoWriter_fourcc(*'mp4v')\n",
    "out = cv2.VideoWriter(output_path, fourcc, fps, (frame_width, frame_height))\n"
   ]
  },
  {
   "cell_type": "code",
   "execution_count": 6,
   "id": "009abd3b-f7fa-4451-88f2-d5fd3bf8403d",
   "metadata": {},
   "outputs": [
    {
     "name": "stdout",
     "output_type": "stream",
     "text": [
      "✅ Available model classes: {0: 'ball', 1: 'goalkeeper', 2: 'player', 3: 'referee'}\n",
      "Processed Frame: 1\\rProcessed Frame: 2\\rProcessed Frame: 3\\rProcessed Frame: 4\\rProcessed Frame: 5\\rProcessed Frame: 6\\rProcessed Frame: 7\\rProcessed Frame: 8\\rProcessed Frame: 9\\rProcessed Frame: 10\\rProcessed Frame: 11\\rProcessed Frame: 12\\rProcessed Frame: 13\\rProcessed Frame: 14\\rProcessed Frame: 15\\rProcessed Frame: 16\\rProcessed Frame: 17\\rProcessed Frame: 18\\rProcessed Frame: 19\\rProcessed Frame: 20\\rProcessed Frame: 21\\rProcessed Frame: 22\\rProcessed Frame: 23\\rProcessed Frame: 24\\rProcessed Frame: 25\\rProcessed Frame: 26\\rProcessed Frame: 27\\rProcessed Frame: 28\\rProcessed Frame: 29\\rProcessed Frame: 30\\rProcessed Frame: 31\\rProcessed Frame: 32\\rProcessed Frame: 33\\rProcessed Frame: 34\\rProcessed Frame: 35\\rProcessed Frame: 36\\rProcessed Frame: 37\\rProcessed Frame: 38\\rProcessed Frame: 39\\rProcessed Frame: 40\\rProcessed Frame: 41\\rProcessed Frame: 42\\rProcessed Frame: 43\\rProcessed Frame: 44\\rProcessed Frame: 45\\rProcessed Frame: 46\\rProcessed Frame: 47\\rProcessed Frame: 48\\rProcessed Frame: 49\\rProcessed Frame: 50\\rProcessed Frame: 51\\rProcessed Frame: 52\\rProcessed Frame: 53\\rProcessed Frame: 54\\rProcessed Frame: 55\\rProcessed Frame: 56\\rProcessed Frame: 57\\rProcessed Frame: 58\\rProcessed Frame: 59\\rProcessed Frame: 60\\rProcessed Frame: 61\\rProcessed Frame: 62\\rProcessed Frame: 63\\rProcessed Frame: 64\\rProcessed Frame: 65\\rProcessed Frame: 66\\rProcessed Frame: 67\\rProcessed Frame: 68\\rProcessed Frame: 69\\rProcessed Frame: 70\\rProcessed Frame: 71\\rProcessed Frame: 72\\rProcessed Frame: 73\\rProcessed Frame: 74\\rProcessed Frame: 75\\rProcessed Frame: 76\\rProcessed Frame: 77\\rProcessed Frame: 78\\rProcessed Frame: 79\\rProcessed Frame: 80\\rProcessed Frame: 81\\rProcessed Frame: 82\\rProcessed Frame: 83\\rProcessed Frame: 84\\rProcessed Frame: 85\\rProcessed Frame: 86\\rProcessed Frame: 87\\rProcessed Frame: 88\\rProcessed Frame: 89\\rProcessed Frame: 90\\rProcessed Frame: 91\\rProcessed Frame: 92\\rProcessed Frame: 93\\rProcessed Frame: 94\\rProcessed Frame: 95\\rProcessed Frame: 96\\rProcessed Frame: 97\\rProcessed Frame: 98\\rProcessed Frame: 99\\rProcessed Frame: 100\\rProcessed Frame: 101\\rProcessed Frame: 102\\rProcessed Frame: 103\\rProcessed Frame: 104\\rProcessed Frame: 105\\rProcessed Frame: 106\\rProcessed Frame: 107\\rProcessed Frame: 108\\rProcessed Frame: 109\\rProcessed Frame: 110\\rProcessed Frame: 111\\rProcessed Frame: 112\\rProcessed Frame: 113\\rProcessed Frame: 114\\rProcessed Frame: 115\\rProcessed Frame: 116\\rProcessed Frame: 117\\rProcessed Frame: 118\\rProcessed Frame: 119\\rProcessed Frame: 120\\rProcessed Frame: 121\\rProcessed Frame: 122\\rProcessed Frame: 123\\rProcessed Frame: 124\\rProcessed Frame: 125\\rProcessed Frame: 126\\rProcessed Frame: 127\\rProcessed Frame: 128\\rProcessed Frame: 129\\rProcessed Frame: 130\\rProcessed Frame: 131\\rProcessed Frame: 132\\rProcessed Frame: 133\\rProcessed Frame: 134\\rProcessed Frame: 135\\rProcessed Frame: 136\\rProcessed Frame: 137\\rProcessed Frame: 138\\rProcessed Frame: 139\\rProcessed Frame: 140\\rProcessed Frame: 141\\rProcessed Frame: 142\\rProcessed Frame: 143\\rProcessed Frame: 144\\rProcessed Frame: 145\\rProcessed Frame: 146\\rProcessed Frame: 147\\rProcessed Frame: 148\\rProcessed Frame: 149\\rProcessed Frame: 150\\rProcessed Frame: 151\\rProcessed Frame: 152\\rProcessed Frame: 153\\rProcessed Frame: 154\\rProcessed Frame: 155\\rProcessed Frame: 156\\rProcessed Frame: 157\\rProcessed Frame: 158\\rProcessed Frame: 159\\rProcessed Frame: 160\\rProcessed Frame: 161\\rProcessed Frame: 162\\rProcessed Frame: 163\\rProcessed Frame: 164\\rProcessed Frame: 165\\rProcessed Frame: 166\\rProcessed Frame: 167\\rProcessed Frame: 168\\rProcessed Frame: 169\\rProcessed Frame: 170\\rProcessed Frame: 171\\rProcessed Frame: 172\\rProcessed Frame: 173\\rProcessed Frame: 174\\rProcessed Frame: 175\\rProcessed Frame: 176\\rProcessed Frame: 177\\rProcessed Frame: 178\\rProcessed Frame: 179\\rProcessed Frame: 180\\rProcessed Frame: 181\\rProcessed Frame: 182\\rProcessed Frame: 183\\rProcessed Frame: 184\\rProcessed Frame: 185\\rProcessed Frame: 186\\rProcessed Frame: 187\\rProcessed Frame: 188\\rProcessed Frame: 189\\rProcessed Frame: 190\\rProcessed Frame: 191\\rProcessed Frame: 192\\rProcessed Frame: 193\\rProcessed Frame: 194\\rProcessed Frame: 195\\rProcessed Frame: 196\\rProcessed Frame: 197\\rProcessed Frame: 198\\rProcessed Frame: 199\\rProcessed Frame: 200\\rProcessed Frame: 201\\rProcessed Frame: 202\\rProcessed Frame: 203\\rProcessed Frame: 204\\rProcessed Frame: 205\\rProcessed Frame: 206\\rProcessed Frame: 207\\rProcessed Frame: 208\\rProcessed Frame: 209\\rProcessed Frame: 210\\rProcessed Frame: 211\\rProcessed Frame: 212\\rProcessed Frame: 213\\rProcessed Frame: 214\\rProcessed Frame: 215\\rProcessed Frame: 216\\rProcessed Frame: 217\\rProcessed Frame: 218\\rProcessed Frame: 219\\rProcessed Frame: 220\\rProcessed Frame: 221\\rProcessed Frame: 222\\rProcessed Frame: 223\\rProcessed Frame: 224\\rProcessed Frame: 225\\rProcessed Frame: 226\\rProcessed Frame: 227\\rProcessed Frame: 228\\rProcessed Frame: 229\\rProcessed Frame: 230\\rProcessed Frame: 231\\rProcessed Frame: 232\\rProcessed Frame: 233\\rProcessed Frame: 234\\rProcessed Frame: 235\\rProcessed Frame: 236\\rProcessed Frame: 237\\rProcessed Frame: 238\\rProcessed Frame: 239\\rProcessed Frame: 240\\rProcessed Frame: 241\\rProcessed Frame: 242\\rProcessed Frame: 243\\rProcessed Frame: 244\\rProcessed Frame: 245\\rProcessed Frame: 246\\rProcessed Frame: 247\\rProcessed Frame: 248\\rProcessed Frame: 249\\rProcessed Frame: 250\\rProcessed Frame: 251\\rProcessed Frame: 252\\rProcessed Frame: 253\\rProcessed Frame: 254\\rProcessed Frame: 255\\rProcessed Frame: 256\\rProcessed Frame: 257\\rProcessed Frame: 258\\rProcessed Frame: 259\\rProcessed Frame: 260\\rProcessed Frame: 261\\rProcessed Frame: 262\\rProcessed Frame: 263\\rProcessed Frame: 264\\rProcessed Frame: 265\\rProcessed Frame: 266\\rProcessed Frame: 267\\rProcessed Frame: 268\\rProcessed Frame: 269\\rProcessed Frame: 270\\rProcessed Frame: 271\\rProcessed Frame: 272\\rProcessed Frame: 273\\rProcessed Frame: 274\\rProcessed Frame: 275\\rProcessed Frame: 276\\rProcessed Frame: 277\\rProcessed Frame: 278\\rProcessed Frame: 279\\rProcessed Frame: 280\\rProcessed Frame: 281\\rProcessed Frame: 282\\rProcessed Frame: 283\\rProcessed Frame: 284\\rProcessed Frame: 285\\rProcessed Frame: 286\\rProcessed Frame: 287\\rProcessed Frame: 288\\rProcessed Frame: 289\\rProcessed Frame: 290\\rProcessed Frame: 291\\rProcessed Frame: 292\\rProcessed Frame: 293\\rProcessed Frame: 294\\rProcessed Frame: 295\\rProcessed Frame: 296\\rProcessed Frame: 297\\rProcessed Frame: 298\\rProcessed Frame: 299\\rProcessed Frame: 300\\rProcessed Frame: 301\\rProcessed Frame: 302\\rProcessed Frame: 303\\rProcessed Frame: 304\\rProcessed Frame: 305\\rProcessed Frame: 306\\rProcessed Frame: 307\\rProcessed Frame: 308\\rProcessed Frame: 309\\rProcessed Frame: 310\\rProcessed Frame: 311\\rProcessed Frame: 312\\rProcessed Frame: 313\\rProcessed Frame: 314\\rProcessed Frame: 315\\rProcessed Frame: 316\\rProcessed Frame: 317\\rProcessed Frame: 318\\rProcessed Frame: 319\\rProcessed Frame: 320\\rProcessed Frame: 321\\rProcessed Frame: 322\\rProcessed Frame: 323\\rProcessed Frame: 324\\rProcessed Frame: 325\\rProcessed Frame: 326\\rProcessed Frame: 327\\rProcessed Frame: 328\\rProcessed Frame: 329\\rProcessed Frame: 330\\rProcessed Frame: 331\\rProcessed Frame: 332\\rProcessed Frame: 333\\rProcessed Frame: 334\\rProcessed Frame: 335\\rProcessed Frame: 336\\rProcessed Frame: 337\\rProcessed Frame: 338\\rProcessed Frame: 339\\rProcessed Frame: 340\\rProcessed Frame: 341\\rProcessed Frame: 342\\rProcessed Frame: 343\\rProcessed Frame: 344\\rProcessed Frame: 345\\rProcessed Frame: 346\\rProcessed Frame: 347\\rProcessed Frame: 348\\rProcessed Frame: 349\\rProcessed Frame: 350\\rProcessed Frame: 351\\rProcessed Frame: 352\\rProcessed Frame: 353\\rProcessed Frame: 354\\rProcessed Frame: 355\\rProcessed Frame: 356\\rProcessed Frame: 357\\rProcessed Frame: 358\\rProcessed Frame: 359\\rProcessed Frame: 360\\rProcessed Frame: 361\\rProcessed Frame: 362\\rProcessed Frame: 363\\rProcessed Frame: 364\\rProcessed Frame: 365\\rProcessed Frame: 366\\rProcessed Frame: 367\\rProcessed Frame: 368\\rProcessed Frame: 369\\rProcessed Frame: 370\\rProcessed Frame: 371\\rProcessed Frame: 372\\rProcessed Frame: 373\\rProcessed Frame: 374\\rProcessed Frame: 375\\r✅ Tracking complete!\n",
      "🎯 Total unique player IDs assigned: 51\n",
      "⏱️ Time taken: 609.54 seconds\n",
      "📦 Frames Processed: 375\n",
      "🧾 Unique IDs: {'4', '91', '88', '10', '35', '43', '9', '39', '77', '14', '20', '78', '24', '87', '5', '62', '23', '86', '54', '6', '32', '82', '92', '2', '48', '51', '1', '66', '75', '12', '74', '41', '55', '44', '90', '26', '21', '3', '17', '13', '85', '8', '36', '68', '37', '73', '46', '80', '64', '70', '28'}\n"
     ]
    }
   ],
   "source": [
    "print(\"✅ Available model classes:\", model.names)\n",
    "\n",
    "frame_count = 0\n",
    "unique_ids = set()\n",
    "start_time = time.time()\n",
    "\n",
    "while cap.isOpened():\n",
    "    ret, frame = cap.read()\n",
    "    if not ret:\n",
    "        break\n",
    "\n",
    "    results = model(frame, verbose=False, conf=0.4)\n",
    "    detections = []\n",
    "\n",
    "    for result in results:\n",
    "        for box in result.boxes:\n",
    "            x1, y1, x2, y2 = map(int, box.xyxy[0])\n",
    "            conf = float(box.conf[0])\n",
    "            cls = int(box.cls[0])\n",
    "            class_name = model.names[cls].lower()\n",
    "\n",
    "            if class_name == 'player':\n",
    "                w = x2 - x1\n",
    "                h = y2 - y1\n",
    "                if w > 30 and h > 60:\n",
    "                    detections.append(([x1, y1, w, h], conf, class_name))\n",
    "\n",
    "    # Re-ID using standard DeepSORT update (no embed_only)\n",
    "    tracks = tracker.update_tracks(detections, frame=frame)\n",
    "\n",
    "    for track in tracks:\n",
    "        if not track.is_confirmed():\n",
    "            continue\n",
    "\n",
    "        track_id = track.track_id\n",
    "        unique_ids.add(track_id)\n",
    "\n",
    "        x1, y1, x2, y2 = map(int, track.to_ltrb())\n",
    "        cv2.rectangle(frame, (x1, y1), (x2, y2), (0, 0, 255), 2)\n",
    "        cv2.putText(frame, f'Player {track_id}', (x1, y1 - 10),\n",
    "                    cv2.FONT_HERSHEY_SIMPLEX, 0.6, (255, 255, 255), 2)\n",
    "\n",
    "    out.write(frame)\n",
    "    frame_count += 1\n",
    "    print(f\"Processed Frame: {frame_count}\", end='\\\\r')\n",
    "\n",
    "cap.release()\n",
    "out.release()\n",
    "cv2.destroyAllWindows()\n",
    "\n",
    "end_time = time.time()\n",
    "\n",
    "print(f\"✅ Tracking complete!\")\n",
    "print(f\"🎯 Total unique player IDs assigned: {len(unique_ids)}\")\n",
    "print(f\"⏱️ Time taken: {end_time - start_time:.2f} seconds\")\n",
    "print(f\"📦 Frames Processed: {frame_count}\")\n",
    "print(f\"🧾 Unique IDs: {unique_ids}\")\n"
   ]
  },
  {
   "cell_type": "code",
   "execution_count": null,
   "id": "5d3dd0dd-4224-4987-a3bf-ca150478bc04",
   "metadata": {},
   "outputs": [],
   "source": []
  },
  {
   "cell_type": "code",
   "execution_count": null,
   "id": "64739815-0edf-4ed4-9662-fead0211a3e0",
   "metadata": {},
   "outputs": [],
   "source": []
  }
 ],
 "metadata": {
  "kernelspec": {
   "display_name": "Python 3 (ipykernel)",
   "language": "python",
   "name": "python3"
  },
  "language_info": {
   "codemirror_mode": {
    "name": "ipython",
    "version": 3
   },
   "file_extension": ".py",
   "mimetype": "text/x-python",
   "name": "python",
   "nbconvert_exporter": "python",
   "pygments_lexer": "ipython3",
   "version": "3.13.3"
  }
 },
 "nbformat": 4,
 "nbformat_minor": 5
}
